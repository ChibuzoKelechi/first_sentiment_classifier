{
 "cells": [
  {
   "cell_type": "code",
   "execution_count": 44,
   "metadata": {},
   "outputs": [
    {
     "name": "stderr",
     "output_type": "stream",
     "text": [
      "[nltk_data] Downloading package punkt to /home/kelechi/nltk_data...\n",
      "[nltk_data]   Package punkt is already up-to-date!\n"
     ]
    }
   ],
   "source": [
    "import nltk \n",
    "nltk.download('punkt')\n",
    "from nltk.classify import NaiveBayesClassifier\n",
    "from nltk.classify.util import accuracy"
   ]
  },
  {
   "cell_type": "code",
   "execution_count": 24,
   "metadata": {},
   "outputs": [
    {
     "data": {
      "text/plain": [
       "{'These': True, 'are': True, 'the': True, 'angels': True, '.': True}"
      ]
     },
     "execution_count": 24,
     "metadata": {},
     "output_type": "execute_result"
    }
   ],
   "source": [
    "def token_sentence(sent):\n",
    "    return ({word: True for word in nltk.word_tokenize(sent)})\n",
    "\n",
    "tokentxt = token_sentence('These are the angels.')\n",
    "\n",
    "tokentxt"
   ]
  },
  {
   "cell_type": "code",
   "execution_count": 25,
   "metadata": {},
   "outputs": [],
   "source": [
    "pos_tweets = []\n",
    "neg_tweets = []\n",
    "\n",
    "with open(\"pos_tweets.txt\") as f:\n",
    "    for i in f: \n",
    "        pos_tweets.append([token_sentence(i), 'positive'])\n",
    "\n",
    "with open('neg_tweets.txt') as nf:\n",
    "    for n in nf:\n",
    "        neg_tweets.append([token_sentence(n), 'negative'])\n"
   ]
  },
  {
   "cell_type": "code",
   "execution_count": 26,
   "metadata": {},
   "outputs": [],
   "source": [
    "train_data = pos_tweets[:int((.9)*len(pos_tweets))] + neg_tweets[:int((.9)*len(neg_tweets))]\n",
    "\n",
    "test_data = pos_tweets[:int((.1)*len(pos_tweets))] + neg_tweets[:int((.1)*len(neg_tweets))]"
   ]
  },
  {
   "cell_type": "code",
   "execution_count": 27,
   "metadata": {},
   "outputs": [
    {
     "name": "stdout",
     "output_type": "stream",
     "text": [
      "Most Informative Features\n",
      "                      no = True           negati : positi =     21.2 : 1.0\n",
      "                 awesome = True           positi : negati =     18.7 : 1.0\n",
      "                headache = True           negati : positi =     18.3 : 1.0\n",
      "               beautiful = True           positi : negati =     14.2 : 1.0\n",
      "                    love = True           positi : negati =     14.2 : 1.0\n",
      "                      Hi = True           positi : negati =     12.7 : 1.0\n",
      "                   Thank = True           positi : negati =      9.7 : 1.0\n",
      "                     fan = True           positi : negati =      9.7 : 1.0\n",
      "                    glad = True           positi : negati =      9.7 : 1.0\n",
      "                    been = True           negati : positi =      9.3 : 1.0\n"
     ]
    }
   ],
   "source": [
    "classifier = NaiveBayesClassifier.train(train_data)\n",
    "\n",
    "classifier.show_most_informative_features()"
   ]
  },
  {
   "cell_type": "code",
   "execution_count": 42,
   "metadata": {},
   "outputs": [],
   "source": [
    "accuracy = accuracy(classifier, test_data)"
   ]
  },
  {
   "cell_type": "code",
   "execution_count": 43,
   "metadata": {},
   "outputs": [
    {
     "data": {
      "text/plain": [
       "'Connotation: positive with accuracy of 0.9597989949748744'"
      ]
     },
     "execution_count": 43,
     "metadata": {},
     "output_type": "execute_result"
    }
   ],
   "source": [
    "first_text = 'Poor cavs....all that hard work.'\n",
    "pos_text = 'Now I can breathe haha '\n",
    "\n",
    "def classify_sentence(input):\n",
    "    sentiment_class = classifier.classify(token_sentence(input))\n",
    "    return f\"Connotation: {sentiment_class} with accuracy of {accuracy}\"\n",
    "\n",
    "classify_sentence(pos_text) "
   ]
  }
 ],
 "metadata": {
  "kernelspec": {
   "display_name": "Python 3",
   "language": "python",
   "name": "python3"
  },
  "language_info": {
   "codemirror_mode": {
    "name": "ipython",
    "version": 3
   },
   "file_extension": ".py",
   "mimetype": "text/x-python",
   "name": "python",
   "nbconvert_exporter": "python",
   "pygments_lexer": "ipython3",
   "version": "3.12.1"
  }
 },
 "nbformat": 4,
 "nbformat_minor": 2
}
