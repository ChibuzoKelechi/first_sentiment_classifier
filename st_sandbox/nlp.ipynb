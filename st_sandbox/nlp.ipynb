{
 "cells": [
  {
   "cell_type": "code",
   "execution_count": 10,
   "metadata": {},
   "outputs": [],
   "source": [
    "import nltk \n",
    "nltk.download('punkt')\n",
    "from nltk.classify import NaiveBayesClassifier\n",
    "from nltk.classify.util import accuracy "
   ]
  },
  {
   "cell_type": "code",
   "execution_count": 11,
   "metadata": {},
   "outputs": [
    {
     "name": "stdout",
     "output_type": "stream",
     "text": [
      "{'These': True, 'are': True, 'the': True, 'angels': True, '.': True}\n"
     ]
    }
   ],
   "source": [
    "def token_sentence(sent):\n",
    "    return ({word: True for word in nltk.word_tokenize(sent)})\n",
    "\n",
    "tokentxt = token_sentence('These are the angels.')\n",
    "\n",
    "print(tokentxt)"
   ]
  },
  {
   "cell_type": "code",
   "execution_count": 12,
   "metadata": {},
   "outputs": [
    {
     "data": {
      "text/plain": [
       "617"
      ]
     },
     "execution_count": 12,
     "metadata": {},
     "output_type": "execute_result"
    }
   ],
   "source": [
    "pos_tweets = []\n",
    "neg_tweets = []\n",
    "\n",
    "with open(\"pos_tweets.txt\") as f:\n",
    "    for i in f: \n",
    "        pos_tweets.append([token_sentence(i), 'positive'])\n",
    "\n",
    "with open('neg_tweets.txt') as nf:\n",
    "    for n in nf:\n",
    "        neg_tweets.append([token_sentence(n), 'negative'])\n",
    "\n",
    "len(pos_tweets)"
   ]
  },
  {
   "cell_type": "code",
   "execution_count": 13,
   "metadata": {},
   "outputs": [],
   "source": [
    "train_data = pos_tweets[:int((.9)*len(pos_tweets))] + neg_tweets[:int((.9)*len(neg_tweets))]\n",
    "\n",
    "test_data = pos_tweets[:int((.1)*len(pos_tweets))] + neg_tweets[:int((.1)*len(neg_tweets))]"
   ]
  },
  {
   "cell_type": "code",
   "execution_count": 14,
   "metadata": {},
   "outputs": [
    {
     "name": "stdout",
     "output_type": "stream",
     "text": [
      "Most Informative Features\n",
      "                      no = True           negati : positi =     21.2 : 1.0\n",
      "                 awesome = True           positi : negati =     18.7 : 1.0\n",
      "                headache = True           negati : positi =     18.3 : 1.0\n",
      "               beautiful = True           positi : negati =     14.2 : 1.0\n",
      "                    love = True           positi : negati =     14.2 : 1.0\n",
      "                      Hi = True           positi : negati =     12.7 : 1.0\n",
      "                   Thank = True           positi : negati =      9.7 : 1.0\n",
      "                     fan = True           positi : negati =      9.7 : 1.0\n",
      "                    glad = True           positi : negati =      9.7 : 1.0\n",
      "                    been = True           negati : positi =      9.3 : 1.0\n"
     ]
    }
   ],
   "source": [
    "classifier = NaiveBayesClassifier.train(train_data)\n",
    "\n",
    "classifier.show_most_informative_features()"
   ]
  },
  {
   "cell_type": "code",
   "execution_count": 15,
   "metadata": {},
   "outputs": [],
   "source": [
    "class_accuracy = accuracy(classifier, test_data)"
   ]
  },
  {
   "cell_type": "code",
   "execution_count": 17,
   "metadata": {},
   "outputs": [
    {
     "data": {
      "text/plain": [
       "'Connotation: negative with accuracy of 95%'"
      ]
     },
     "execution_count": 17,
     "metadata": {},
     "output_type": "execute_result"
    }
   ],
   "source": [
    "first_text = 'Poor cavs....all that hard work.'\n",
    "pos_text = 'Now I can breathe haha '\n",
    "\n",
    "def classify_sentence(input):\n",
    "    m_accuracy = f'{int(class_accuracy * 100)}%'\n",
    "    sentiment_class = classifier.classify(token_sentence(input))\n",
    "    return f\"Connotation: {sentiment_class} with accuracy of {m_accuracy}\"\n",
    "\n",
    "classify_sentence(first_text) "
   ]
  }
 ],
 "metadata": {
  "kernelspec": {
   "display_name": "Python 3",
   "language": "python",
   "name": "python3"
  },
  "language_info": {
   "codemirror_mode": {
    "name": "ipython",
    "version": 3
   },
   "file_extension": ".py",
   "mimetype": "text/x-python",
   "name": "python",
   "nbconvert_exporter": "python",
   "pygments_lexer": "ipython3",
   "version": "3.12.1"
  }
 },
 "nbformat": 4,
 "nbformat_minor": 2
}
